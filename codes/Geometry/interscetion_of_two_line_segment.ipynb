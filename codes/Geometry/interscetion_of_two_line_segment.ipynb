{
 "cells": [
  {
   "cell_type": "code",
   "execution_count": 1,
   "metadata": {},
   "outputs": [],
   "source": [
    "import matplotlib.pyplot as plt\n",
    "import numpy as np"
   ]
  },
  {
   "cell_type": "markdown",
   "metadata": {},
   "source": [
    "# Data Generation"
   ]
  },
  {
   "cell_type": "code",
   "execution_count": 2,
   "metadata": {},
   "outputs": [
    {
     "data": {
      "image/png": "[encoded data removed]",
      "text/plain": [
       "<Figure size 432x288 with 1 Axes>"
      ]
     },
     "metadata": {
      "needs_background": "light"
     },
     "output_type": "display_data"
    }
   ],
   "source": [
    "AB = np.array([[0.2, 1.2], [0.4, -1.3]])\n",
    "\n",
    "CD = np.array([[0.3, -1.2], [0.4, 1.3]])\n",
    "\n",
    "plt.plot(AB[:, 0], AB[:, 1], 'r-')\n",
    "plt.plot(CD[:, 0], CD[:, 1], 'b-')\n",
    "plt.xlabel('x')\n",
    "plt.ylabel('y')\n",
    "plt.show()"
   ]
  },
  {
   "cell_type": "markdown",
   "metadata": {},
   "source": [
    "# Cross Product Implementation\n",
    "\n",
    "For $A \\times B = |A||B|sin\\theta$, where $\\theta$ is the angle between two lines. We can use cross product to calculate on which side of a straight line is a given point located. We also know that **if two line segments have intersection, two points of one line are on the different side of the other line**."
   ]
  },
  {
   "cell_type": "code",
   "execution_count": 3,
   "metadata": {},
   "outputs": [
    {
     "name": "stdout",
     "output_type": "stream",
     "text": [
      "-0.52 0.2300000000000001\n",
      "-0.2600000000000001 0.49\n",
      "Have intersection\n"
     ]
    }
   ],
   "source": [
    "def cross(v1, v2):\n",
    "    return v1[0]*v2[1] - v2[0]*v1[1]\n",
    "\n",
    "cross_product1 = cross(AB[1, :] - AB[0, :], AB[1, :] - CD[1, :])\n",
    "cross_product2 = cross(AB[1, :] - AB[0, :], AB[1, :] - CD[0, :])\n",
    "print(cross_product1, cross_product2)\n",
    "if cross_product1 * cross_product2 > 0:\n",
    "    print(\"No intersection\")\n",
    "else:\n",
    "    cross_product1 = cross(CD[1, :] - CD[0, :], AB[1, :] - CD[0, :])\n",
    "    cross_product2 = cross(CD[1, :] - CD[0, :], AB[0, :] - CD[0, :])\n",
    "    print(cross_product1, cross_product2)\n",
    "    if cross_product1 * cross_product2 > 0:\n",
    "        print(\"No intersection\")\n",
    "    else:\n",
    "        print(\"Have intersection\")"
   ]
  }
 ],
 "metadata": {
  "kernelspec": {
   "display_name": "Python 3",
   "language": "python",
   "name": "python3"
  },
  "language_info": {
   "codemirror_mode": {
    "name": "ipython",
    "version": 3
   },
   "file_extension": ".py",
   "mimetype": "text/x-python",
   "name": "python",
   "nbconvert_exporter": "python",
   "pygments_lexer": "ipython3",
   "version": "3.6.8"
  }
 },
 "nbformat": 4,
 "nbformat_minor": 2
}
