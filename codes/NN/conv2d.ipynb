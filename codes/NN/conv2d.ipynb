{
 "cells": [
  {
   "cell_type": "code",
   "execution_count": 1,
   "metadata": {},
   "outputs": [],
   "source": [
    "import time\n",
    "import math\n",
    "import numpy as np\n",
    "from numpy.fft  import fft2, ifft2\n",
    "from scipy.signal import convolve2d"
   ]
  },
  {
   "cell_type": "markdown",
   "metadata": {},
   "source": [
    "# Data Generation"
   ]
  },
  {
   "cell_type": "code",
   "execution_count": 2,
   "metadata": {},
   "outputs": [
    {
     "name": "stdout",
     "output_type": "stream",
     "text": [
      "filter =  [[ 0.06734867  0.04643565 -0.11393147]\n",
      " [ 0.2554598  -0.42890386 -0.00367388]\n",
      " [ 0.01225916 -0.09873612 -0.10296112]]\n",
      "image =  [[102  23 103 242  38  89  55]\n",
      " [176 208  19  34 241 176  95]\n",
      " [121 238 118  76 118  71 138]\n",
      " [ 47  57 121  66 201  45 236]\n",
      " [111  85  97   0 137  53  62]\n",
      " [172 210 131 217 140  38 240]\n",
      " [116  37 105  17 197  71 226]]\n"
     ]
    }
   ],
   "source": [
    "rows = 7\n",
    "cols = 7\n",
    "mu, sigma = 0, math.sqrt(2.0 / (rows * cols))\n",
    "\n",
    "k_size = 3\n",
    "\n",
    "filter2d = np.random.normal(mu, sigma, size=(k_size, k_size))\n",
    "\n",
    "image = np.random.randint(255, size=(rows, cols))\n",
    "\n",
    "print(\"filter = \", filter2d)\n",
    "print(\"image = \", image)"
   ]
  },
  {
   "cell_type": "markdown",
   "metadata": {},
   "source": [
    "## Scipy Convolution\n",
    "\n",
    "Automatically chooses direct or Fourier method based on an estimate\n",
    "of which is faster (default)"
   ]
  },
  {
   "cell_type": "code",
   "execution_count": 3,
   "metadata": {},
   "outputs": [
    {
     "name": "stdout",
     "output_type": "stream",
     "text": [
      "Finish in 1.28 ms\n",
      "scipy_res =  [[-1.56914206e+01  6.95913528e+00 -2.96594021e+00 -7.88205274e+01\n",
      "   2.47191848e+01 -3.71484491e+01 -3.95572400e+01]\n",
      " [-1.04928682e+01 -9.13020216e+01 -2.63167015e+01  1.09123264e+01\n",
      "  -8.45049461e+01 -6.49824527e+01 -5.76675104e+01]\n",
      " [ 9.57613544e-02 -1.05363506e+02 -5.13755491e+01 -2.42865937e+00\n",
      "  -5.30459182e+01 -4.15751413e+01 -8.11187699e+01]\n",
      " [-3.74767030e+00 -3.03870107e+01 -7.56502614e+01  2.56386418e+00\n",
      "  -8.36308051e+01  1.38095718e+01 -1.25481818e+02]\n",
      " [-7.70591894e+00 -2.20908527e+01 -6.21505815e+01  2.27111646e+01\n",
      "  -8.69730815e+01 -2.76640371e+01 -4.79065705e+01]\n",
      " [-2.21641522e+01 -8.02949217e+01 -1.80470368e+01 -6.40024781e+01\n",
      "  -5.20206696e+01  2.19922732e+01 -1.12249791e+02]\n",
      " [-5.47090256e+01 -2.63102820e+01 -7.27240519e+01  9.45109456e+00\n",
      "  -1.02118643e+02  1.13336551e+01 -1.24802310e+02]]\n"
     ]
    }
   ],
   "source": [
    "start = time.time()\n",
    "scipy_res = convolve2d(image, filter2d, mode='same', boundary='fill', fillvalue=0)\n",
    "end = time.time()\n",
    "print(\"Finish in %.2f ms\" % ((end - start)*1000))\n",
    "print(\"scipy_res = \", scipy_res)"
   ]
  },
  {
   "cell_type": "markdown",
   "metadata": {},
   "source": [
    "## My implementation"
   ]
  },
  {
   "cell_type": "code",
   "execution_count": 4,
   "metadata": {},
   "outputs": [
    {
     "name": "stdout",
     "output_type": "stream",
     "text": [
      "Finish in 3.68 ms\n",
      "my_res =  [[-1.56914206e+01  6.95913528e+00 -2.96594021e+00 -7.88205274e+01\n",
      "   2.47191848e+01 -3.71484491e+01 -3.95572400e+01]\n",
      " [-1.04928682e+01 -9.13020216e+01 -2.63167015e+01  1.09123264e+01\n",
      "  -8.45049461e+01 -6.49824527e+01 -5.76675104e+01]\n",
      " [ 9.57613544e-02 -1.05363506e+02 -5.13755491e+01 -2.42865937e+00\n",
      "  -5.30459182e+01 -4.15751413e+01 -8.11187699e+01]\n",
      " [-3.74767030e+00 -3.03870107e+01 -7.56502614e+01  2.56386418e+00\n",
      "  -8.36308051e+01  1.38095718e+01 -1.25481818e+02]\n",
      " [-7.70591894e+00 -2.20908527e+01 -6.21505815e+01  2.27111646e+01\n",
      "  -8.69730815e+01 -2.76640371e+01 -4.79065705e+01]\n",
      " [-2.21641522e+01 -8.02949217e+01 -1.80470368e+01 -6.40024781e+01\n",
      "  -5.20206696e+01  2.19922732e+01 -1.12249791e+02]\n",
      " [-5.47090256e+01 -2.63102820e+01 -7.27240519e+01  9.45109456e+00\n",
      "  -1.02118643e+02  1.13336551e+01 -1.24802310e+02]]\n"
     ]
    }
   ],
   "source": [
    "def conv2d(x, f):\n",
    "    r, c = x.shape\n",
    "    kr, kc = f.shape\n",
    "    res = np.zeros(x.shape)\n",
    "    for i in range(r):\n",
    "        for j in range(c):\n",
    "            # (i, j) is the center position of filter\n",
    "            for ki in range(-int(kr / 2), int(kr / 2) + 1, 1):\n",
    "                for kj in range(-int(kc / 2), int(kc / 2) + 1, 1):\n",
    "                    m = i - ki\n",
    "                    n = j - kj\n",
    "                    #print(ki, kj, i, j)\n",
    "                    if m >= 0 and m < r and n >= 0 and n < c:\n",
    "                        res[i, j] += x[m, n] * f[ki + int(kr / 2), kj + int(kc / 2)]\n",
    "    return res\n",
    "start = time.time()\n",
    "res = conv2d(image, filter2d)\n",
    "end = time.time()\n",
    "print(\"Finish in %.2f ms\" % ((end - start)*1000))\n",
    "print(\"my_res = \", res)"
   ]
  },
  {
   "cell_type": "markdown",
   "metadata": {},
   "source": [
    "## FFT convolution"
   ]
  },
  {
   "cell_type": "code",
   "execution_count": 5,
   "metadata": {},
   "outputs": [
    {
     "name": "stdout",
     "output_type": "stream",
     "text": [
      "Finish in 2.23 ms\n",
      "fft_res =  [[-1.56914206e+01  6.95913528e+00 -2.96594021e+00 -7.88205274e+01\n",
      "   2.47191848e+01 -3.71484491e+01 -3.95572400e+01]\n",
      " [-1.04928682e+01 -9.13020216e+01 -2.63167015e+01  1.09123264e+01\n",
      "  -8.45049461e+01 -6.49824527e+01 -5.76675104e+01]\n",
      " [ 9.57613544e-02 -1.05363506e+02 -5.13755491e+01 -2.42865937e+00\n",
      "  -5.30459182e+01 -4.15751413e+01 -8.11187699e+01]\n",
      " [-3.74767030e+00 -3.03870107e+01 -7.56502614e+01  2.56386418e+00\n",
      "  -8.36308051e+01  1.38095718e+01 -1.25481818e+02]\n",
      " [-7.70591894e+00 -2.20908527e+01 -6.21505815e+01  2.27111646e+01\n",
      "  -8.69730815e+01 -2.76640371e+01 -4.79065705e+01]\n",
      " [-2.21641522e+01 -8.02949217e+01 -1.80470368e+01 -6.40024781e+01\n",
      "  -5.20206696e+01  2.19922732e+01 -1.12249791e+02]\n",
      " [-5.47090256e+01 -2.63102820e+01 -7.27240519e+01  9.45109456e+00\n",
      "  -1.02118643e+02  1.13336551e+01 -1.24802310e+02]]\n"
     ]
    }
   ],
   "source": [
    "from numpy.fft  import fft2, ifft2\n",
    "def np_fftconvolve(A, B):\n",
    "    return np.real(ifft2(fft2(A)*fft2(B, s=A.shape)))\n",
    "start = time.time()\n",
    "fft_res = np_fftconvolve(image, filter2d)\n",
    "end = time.time()\n",
    "print(\"Finish in %.2f ms\" % ((end - start)*1000))\n",
    "print(\"fft_res = \", res)"
   ]
  }
 ],
 "metadata": {
  "kernelspec": {
   "display_name": "Python 3",
   "language": "python",
   "name": "python3"
  },
  "language_info": {
   "codemirror_mode": {
    "name": "ipython",
    "version": 3
   },
   "file_extension": ".py",
   "mimetype": "text/x-python",
   "name": "python",
   "nbconvert_exporter": "python",
   "pygments_lexer": "ipython3",
   "version": "3.6.8"
  }
 },
 "nbformat": 4,
 "nbformat_minor": 2
}
