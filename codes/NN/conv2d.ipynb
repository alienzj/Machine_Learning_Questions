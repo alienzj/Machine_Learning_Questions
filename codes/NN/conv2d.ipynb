{
 "cells": [
  {
   "cell_type": "code",
   "execution_count": 19,
   "metadata": {},
   "outputs": [],
   "source": [
    "import time\n",
    "import math\n",
    "import numpy as np\n",
    "from numpy.fft  import fft2, ifft2\n",
    "from scipy.signal import convolve2d\n",
    "import copy"
   ]
  },
  {
   "cell_type": "markdown",
   "metadata": {},
   "source": [
    "# Data Generation"
   ]
  },
  {
   "cell_type": "code",
   "execution_count": 20,
   "metadata": {},
   "outputs": [
    {
     "name": "stdout",
     "output_type": "stream",
     "text": [
      "filter =  [[-0.22191364 -0.12256412 -0.20761138]\n",
      " [ 0.21137156  0.06855702 -0.05734186]\n",
      " [ 0.05118438 -0.00210179  0.1135126 ]]\n",
      "image =  [[ 64 119 119 152 206   0 219]\n",
      " [247 212 103 225 153 120  65]\n",
      " [233 243  19 139  82   2 145]\n",
      " [250 181 161 239 242 165 153]\n",
      " [198 147 211 189  54 103  18]\n",
      " [104 106 122 239 238   6  58]\n",
      " [106  66 210 224 148 208  23]]\n"
     ]
    }
   ],
   "source": [
    "rows = 7\n",
    "cols = 7\n",
    "mu, sigma = 0, math.sqrt(2.0 / (rows * cols))\n",
    "\n",
    "k_size = 3\n",
    "\n",
    "filter2d = np.random.normal(mu, sigma, size=(k_size, k_size))\n",
    "\n",
    "image = np.random.randint(255, size=(rows, cols))\n",
    "\n",
    "print(\"filter = \", filter2d)\n",
    "print(\"image = \", image)"
   ]
  },
  {
   "cell_type": "markdown",
   "metadata": {},
   "source": [
    "## Scipy Convolution\n",
    "\n",
    "Automatically chooses direct or Fourier method based on an estimate\n",
    "of which is faster (default)"
   ]
  },
  {
   "cell_type": "code",
   "execution_count": 21,
   "metadata": {},
   "outputs": [
    {
     "name": "stdout",
     "output_type": "stream",
     "text": [
      "Finish in 0.32 ms\n",
      "scipy_res =  [[-47.77816427 -70.47908758 -73.10520581 -35.77415885 -86.68772376\n",
      "  -26.41867439 -17.8660453 ]\n",
      " [-14.78167312 -47.12533753 -20.12287006  26.4135285    0.42077136\n",
      "   -1.66107607 -21.07212898]\n",
      " [  6.8616215  -69.63626191 -58.23401455 -71.5988559  -86.4606019\n",
      "  -57.89166757 -29.69720832]\n",
      " [ 10.45659322 -46.93337811 -12.48671814 -14.58724141 -15.24344384\n",
      "   18.67102772 -22.64004351]\n",
      " [ 17.11531928  17.90515792 -11.57102867 -65.00483107 -30.41882482\n",
      "  -20.29382188   5.38143202]\n",
      " [  9.00516712 -16.64064782 -10.42922905 -17.88224402 -80.31000488\n",
      "  -55.46579029 -30.71592114]\n",
      " [ 26.42452484  60.66156766  81.96862413  60.12606387  68.20353709\n",
      "   40.60689336  -9.79112334]]\n"
     ]
    }
   ],
   "source": [
    "start = time.time()\n",
    "img = copy.deepcopy(image)\n",
    "scipy_res = convolve2d(img, filter2d, mode='same', boundary='fill', fillvalue=0)\n",
    "end = time.time()\n",
    "print(\"Finish in %.2f ms\" % ((end - start)*1000))\n",
    "print(\"scipy_res = \", scipy_res)"
   ]
  },
  {
   "cell_type": "markdown",
   "metadata": {},
   "source": [
    "## My implementation 1"
   ]
  },
  {
   "cell_type": "code",
   "execution_count": 22,
   "metadata": {},
   "outputs": [
    {
     "name": "stdout",
     "output_type": "stream",
     "text": [
      "Finish in 0.99 ms\n",
      "my_res =  [[-47.77816427 -70.47908758 -73.10520581 -35.77415885 -86.68772376\n",
      "  -26.41867439 -17.8660453 ]\n",
      " [-14.78167312 -47.12533753 -20.12287006  26.4135285    0.42077136\n",
      "   -1.66107607 -21.07212898]\n",
      " [  6.8616215  -69.63626191 -58.23401455 -71.5988559  -86.4606019\n",
      "  -57.89166757 -29.69720832]\n",
      " [ 10.45659322 -46.93337811 -12.48671814 -14.58724141 -15.24344384\n",
      "   18.67102772 -22.64004351]\n",
      " [ 17.11531928  17.90515792 -11.57102867 -65.00483107 -30.41882482\n",
      "  -20.29382188   5.38143202]\n",
      " [  9.00516712 -16.64064782 -10.42922905 -17.88224402 -80.31000488\n",
      "  -55.46579029 -30.71592114]\n",
      " [ 26.42452484  60.66156766  81.96862413  60.12606387  68.20353709\n",
      "   40.60689336  -9.79112334]]\n"
     ]
    }
   ],
   "source": [
    "def conv2d(x, f):\n",
    "    r, c = x.shape\n",
    "    kr, kc = f.shape\n",
    "    res = np.zeros(x.shape)\n",
    "    for i in range(r):\n",
    "        for j in range(c):\n",
    "            for m in range(kr):\n",
    "                mm = kr - m - 1\n",
    "                for n in range(kc):\n",
    "                    nn = kc - n - 1\n",
    "                    ii = i + kr//2 - mm\n",
    "                    jj = j + kc//2 - nn\n",
    "                    if 0 <= ii < r and 0 <= jj < c:\n",
    "                        res[i][j] += x[ii][jj] * f[mm][nn]\n",
    "    return res\n",
    "start = time.time()\n",
    "img = copy.deepcopy(image)\n",
    "res = conv2d(img, filter2d)\n",
    "assert np.all((res - scipy_res) < 1e-8)\n",
    "end = time.time()\n",
    "print(\"Finish in %.2f ms\" % ((end - start)*1000))\n",
    "print(\"my_res = \", res)"
   ]
  },
  {
   "cell_type": "markdown",
   "metadata": {},
   "source": [
    "## My implementation 2"
   ]
  },
  {
   "cell_type": "code",
   "execution_count": 23,
   "metadata": {},
   "outputs": [
    {
     "name": "stdout",
     "output_type": "stream",
     "text": [
      "Finish in 1.26 ms\n",
      "my_res =  [[-47.77816427 -70.47908758 -73.10520581 -35.77415885 -86.68772376\n",
      "  -26.41867439 -17.8660453 ]\n",
      " [-14.78167312 -47.12533753 -20.12287006  26.4135285    0.42077136\n",
      "   -1.66107607 -21.07212898]\n",
      " [  6.8616215  -69.63626191 -58.23401455 -71.5988559  -86.4606019\n",
      "  -57.89166757 -29.69720832]\n",
      " [ 10.45659322 -46.93337811 -12.48671814 -14.58724141 -15.24344384\n",
      "   18.67102772 -22.64004351]\n",
      " [ 17.11531928  17.90515792 -11.57102867 -65.00483107 -30.41882482\n",
      "  -20.29382188   5.38143202]\n",
      " [  9.00516712 -16.64064782 -10.42922905 -17.88224402 -80.31000488\n",
      "  -55.46579029 -30.71592114]\n",
      " [ 26.42452484  60.66156766  81.96862413  60.12606387  68.20353709\n",
      "   40.60689336  -9.79112334]]\n"
     ]
    }
   ],
   "source": [
    "def conv2d(x, f):\n",
    "    r, c = x.shape\n",
    "    kr, kc = f.shape\n",
    "    res = np.zeros(x.shape)\n",
    "    for i in range(r):\n",
    "        for j in range(c):\n",
    "            # (i, j) is the center position of filter\n",
    "            for ki in range(-int(kr / 2), int(kr / 2) + 1, 1):\n",
    "                for kj in range(-int(kc / 2), int(kc / 2) + 1, 1):\n",
    "                    m = i - ki\n",
    "                    n = j - kj\n",
    "                    #print(ki, kj, i, j)\n",
    "                    if m >= 0 and m < r and n >= 0 and n < c:\n",
    "                        res[i, j] += x[m, n] * f[ki + int(kr / 2), kj + int(kc / 2)]\n",
    "    return res\n",
    "start = time.time()\n",
    "img = copy.deepcopy(image)\n",
    "res = conv2d(img, filter2d)\n",
    "assert np.all((res - scipy_res) < 1e-8)\n",
    "end = time.time()\n",
    "print(\"Finish in %.2f ms\" % ((end - start)*1000))\n",
    "print(\"my_res = \", res)"
   ]
  },
  {
   "cell_type": "markdown",
   "metadata": {},
   "source": [
    "## FFT convolution"
   ]
  },
  {
   "cell_type": "code",
   "execution_count": 24,
   "metadata": {},
   "outputs": [
    {
     "name": "stdout",
     "output_type": "stream",
     "text": [
      "Finish in 0.26 ms\n",
      "fft_res =  [[-47.77816427 -70.47908758 -73.10520581 -35.77415885 -86.68772376\n",
      "  -26.41867439 -17.8660453 ]\n",
      " [-14.78167312 -47.12533753 -20.12287006  26.4135285    0.42077136\n",
      "   -1.66107607 -21.07212898]\n",
      " [  6.8616215  -69.63626191 -58.23401455 -71.5988559  -86.4606019\n",
      "  -57.89166757 -29.69720832]\n",
      " [ 10.45659322 -46.93337811 -12.48671814 -14.58724141 -15.24344384\n",
      "   18.67102772 -22.64004351]\n",
      " [ 17.11531928  17.90515792 -11.57102867 -65.00483107 -30.41882482\n",
      "  -20.29382188   5.38143202]\n",
      " [  9.00516712 -16.64064782 -10.42922905 -17.88224402 -80.31000488\n",
      "  -55.46579029 -30.71592114]\n",
      " [ 26.42452484  60.66156766  81.96862413  60.12606387  68.20353709\n",
      "   40.60689336  -9.79112334]]\n"
     ]
    }
   ],
   "source": [
    "from numpy.fft  import fft2, ifft2\n",
    "def np_fftconvolve(A, B):\n",
    "    return np.real(ifft2(fft2(A)*fft2(B, s=A.shape)))\n",
    "start = time.time()\n",
    "img = copy.deepcopy(image)\n",
    "fft_res = np_fftconvolve(img, filter2d)\n",
    "assert np.all((res - scipy_res) < 1e-8)\n",
    "end = time.time()\n",
    "print(\"Finish in %.2f ms\" % ((end - start)*1000))\n",
    "print(\"fft_res = \", res)"
   ]
  }
 ],
 "metadata": {
  "kernelspec": {
   "display_name": "Python 3",
   "language": "python",
   "name": "python3"
  },
  "language_info": {
   "codemirror_mode": {
    "name": "ipython",
    "version": 3
   },
   "file_extension": ".py",
   "mimetype": "text/x-python",
   "name": "python",
   "nbconvert_exporter": "python",
   "pygments_lexer": "ipython3",
   "version": "3.7.1"
  }
 },
 "nbformat": 4,
 "nbformat_minor": 2
}
