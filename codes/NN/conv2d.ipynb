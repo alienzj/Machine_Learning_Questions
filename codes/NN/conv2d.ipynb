{
 "cells": [
  {
   "cell_type": "code",
   "execution_count": 1,
   "metadata": {},
   "outputs": [],
   "source": [
    "import numpy as np\n",
    "import math\n",
    "from scipy.signal import convolve2d"
   ]
  },
  {
   "cell_type": "markdown",
   "metadata": {},
   "source": [
    "# Data Generation"
   ]
  },
  {
   "cell_type": "code",
   "execution_count": 2,
   "metadata": {},
   "outputs": [
    {
     "name": "stdout",
     "output_type": "stream",
     "text": [
      "filter =  [[-0.09637199  0.10539893  0.14333563]\n",
      " [-0.05828793 -0.31783076 -0.01237399]\n",
      " [-0.2408099   0.75504788  0.12997741]]\n",
      "image =  [[139  98 115  53 253  28 118]\n",
      " [209 247  51 123  29 228  21]\n",
      " [129  98  76  29 189  16  91]\n",
      " [ 67 173 112  92  10 194  94]\n",
      " [241  59 107 145 236  99 237]\n",
      " [ 84   4 206 214 143 135 220]\n",
      " [201 164 246  94 137  60 170]]\n"
     ]
    }
   ],
   "source": [
    "rows = 7\n",
    "cols = 7\n",
    "mu, sigma = 0, math.sqrt(2.0 / (rows * cols))\n",
    "\n",
    "k_size = 3\n",
    "\n",
    "filter2d = np.random.normal(mu, sigma, size=(k_size, k_size))\n",
    "\n",
    "image = np.random.randint(255, size=(rows, cols))\n",
    "\n",
    "print(\"filter = \", filter2d)\n",
    "print(\"image = \", image)"
   ]
  },
  {
   "cell_type": "markdown",
   "metadata": {},
   "source": [
    "## Scipy Convolution"
   ]
  },
  {
   "cell_type": "code",
   "execution_count": 3,
   "metadata": {},
   "outputs": [
    {
     "name": "stdout",
     "output_type": "stream",
     "text": [
      "scipy_res =  [[ -51.66619688   11.50519869  -11.92695843  -15.53548881  -83.98502811\n",
      "     7.25601987   -2.9566013 ]\n",
      " [   4.68054342    1.80048637   79.63262899  -51.63880145  189.67967603\n",
      "   -28.43128256   95.12397316]\n",
      " [  42.00194949  181.25109728   41.66962675   96.12888689  -82.83781247\n",
      "   170.95685643   54.08488392]\n",
      " [  62.13852767   40.56881845   25.79825169  -37.07162797  163.11284851\n",
      "   -31.10763559   77.6821228 ]\n",
      " [ -62.6400848    76.99926323   43.36915406   58.74966268  -77.04586138\n",
      "    90.46719676   62.17727756]\n",
      " [ 146.20799816   58.17604664   15.9213172    19.62348976  139.36202243\n",
      "     0.43016251  146.73881015]\n",
      " [ -10.98242204 -104.61879518   18.8316848   113.01423583   55.07443039\n",
      "    36.86602337  128.88381482]]\n"
     ]
    }
   ],
   "source": [
    "scipy_res = convolve2d(image, filter2d, mode='same', boundary='fill', fillvalue=0)\n",
    "print(\"scipy_res = \", scipy_res)"
   ]
  },
  {
   "cell_type": "markdown",
   "metadata": {},
   "source": [
    "## My implementation"
   ]
  },
  {
   "cell_type": "code",
   "execution_count": 4,
   "metadata": {},
   "outputs": [
    {
     "name": "stdout",
     "output_type": "stream",
     "text": [
      "my_res =  [[ -51.66619688   11.50519869  -11.92695843  -15.53548881  -83.98502811\n",
      "     7.25601987   -2.9566013 ]\n",
      " [   4.68054342    1.80048637   79.63262899  -51.63880145  189.67967603\n",
      "   -28.43128256   95.12397316]\n",
      " [  42.00194949  181.25109728   41.66962675   96.12888689  -82.83781247\n",
      "   170.95685643   54.08488392]\n",
      " [  62.13852767   40.56881845   25.79825169  -37.07162797  163.11284851\n",
      "   -31.10763559   77.6821228 ]\n",
      " [ -62.6400848    76.99926323   43.36915406   58.74966268  -77.04586138\n",
      "    90.46719676   62.17727756]\n",
      " [ 146.20799816   58.17604664   15.9213172    19.62348976  139.36202243\n",
      "     0.43016251  146.73881015]\n",
      " [ -10.98242204 -104.61879518   18.8316848   113.01423583   55.07443039\n",
      "    36.86602337  128.88381482]]\n"
     ]
    }
   ],
   "source": [
    "def conv2d(x, f):\n",
    "    r, c = x.shape\n",
    "    kr, kc = f.shape\n",
    "    res = np.zeros(x.shape)\n",
    "    for i in range(r):\n",
    "        for j in range(c):\n",
    "            # (i, j) is the center position of filter\n",
    "            for ki in range(-int(kr / 2), int(kr / 2) + 1, 1):\n",
    "                for kj in range(-int(kc / 2), int(kc / 2) + 1, 1):\n",
    "                    m = i - ki\n",
    "                    n = j - kj\n",
    "                    #print(ki, kj, i, j)\n",
    "                    if m >= 0 and m < r and n >= 0 and n < c:\n",
    "                        res[i, j] += x[m, n] * f[ki + int(kr / 2), kj + int(kc / 2)]\n",
    "    return res\n",
    "res = conv2d(image, filter2d)\n",
    "print(\"my_res = \", res)"
   ]
  },
  {
   "cell_type": "code",
   "execution_count": null,
   "metadata": {},
   "outputs": [],
   "source": []
  }
 ],
 "metadata": {
  "kernelspec": {
   "display_name": "Python 3",
   "language": "python",
   "name": "python3"
  },
  "language_info": {
   "codemirror_mode": {
    "name": "ipython",
    "version": 3
   },
   "file_extension": ".py",
   "mimetype": "text/x-python",
   "name": "python",
   "nbconvert_exporter": "python",
   "pygments_lexer": "ipython3",
   "version": "3.6.8"
  }
 },
 "nbformat": 4,
 "nbformat_minor": 2
}
